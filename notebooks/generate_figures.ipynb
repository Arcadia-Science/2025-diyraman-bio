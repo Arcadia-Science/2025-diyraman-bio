{
 "cells": [
  {
   "cell_type": "markdown",
   "metadata": {},
   "source": [
    "## GENERATE FIGURES \n",
    "### Sunanda Sharma \n",
    "### Last update: 2025-01-31 \n",
    "\n",
    "The DIY Raman used in this project is the Open Raman system (https://www.open-raman.org/), Starter \n",
    "Version. This notebook goes along with generate_calibration and apply_calibration, and assumes you\n",
    "have processed data already prepared. It generates figures using Arcadia's style guide. \n",
    "\n",
    "### The aims of this notebook are: \n",
    "* To plot processed data from solid and liquid configurations, and time series data\n",
    "* To apply additional processing (normalization, additional baselining) to highlight relevant\n",
    "information for the pub figures"
   ]
  },
  {
   "cell_type": "markdown",
   "metadata": {},
   "source": [
    "### Set up\n",
    "\n",
    "This step imports packages, libraries, and modules necessary to run this notebook and creates the necessary folders for the notebook outputs. "
   ]
  },
  {
   "cell_type": "code",
   "execution_count": null,
   "metadata": {},
   "outputs": [],
   "source": [
    "# # Imports\n",
    "\n",
    "# import arcadia_pycolor as apc\n",
    "# import matplotlib as mpl\n",
    "# import matplotlib.pyplot as plt\n",
    "# import numpy as np\n",
    "# import os\n",
    "# import pandas as pd\n",
    "# from pybaselines.whittaker import airpls\n",
    "# import imageio\n",
    "\n",
    "# apc.mpl.setup()\n",
    "# %matplotlib widget"
   ]
  },
  {
   "cell_type": "markdown",
   "metadata": {},
   "source": [
    "### Figure 1: Overview Figure with Acetonitrile"
   ]
  },
  {
   "cell_type": "code",
   "execution_count": null,
   "metadata": {},
   "outputs": [],
   "source": [
    "# # Load data\n",
    "\n",
    "# df_acetonitrile_10000 = pd.read_csv(\n",
    "#     \"data/processed/processed_data/\n",
    "#       2024-10-11/2024-10-11_acetonitrileinquartzcuvette_n_n_n_solid_10000_0_5.csv\"\n",
    "# )\n",
    "\n",
    "# # Plot data\n",
    "\n",
    "# figure_size = apc.mpl.get_figure_dimensions(\"float_wide\")\n",
    "# fig, ax = plt.subplots(\n",
    "#     figsize=figure_size,\n",
    "#     constrained_layout=True,\n",
    "# )\n",
    "\n",
    "# ax.plot(\n",
    "#     df_acetonitrile_10000[\"Raman shift (cm-1)\"],\n",
    "#     df_acetonitrile_10000[\"Baselined Intensity (a.u.)\"],\n",
    "#     lw=1,\n",
    "# )\n",
    "\n",
    "# ax.set_xlabel(\"Raman shift (cm$^{-1}$)\")\n",
    "# ax.set_ylabel(\"Intensity (AU)\")\n",
    "# apc.mpl.style_plot(monospaced_axes=\"both\")\n",
    "# apc.mpl.save_figure(\n",
    "#     \"figures/fig1/Fig1_base.svg\",\n",
    "#     dpi=300,\n",
    "#     context=\"web\",\n",
    "# )\n",
    "\n",
    "# plt.show()"
   ]
  }
 ],
 "metadata": {
  "kernelspec": {
   "display_name": "diy-raman-bio",
   "language": "python",
   "name": "python3"
  },
  "language_info": {
   "codemirror_mode": {
    "name": "ipython",
    "version": 3
   },
   "file_extension": ".py",
   "mimetype": "text/x-python",
   "name": "python",
   "nbconvert_exporter": "python",
   "pygments_lexer": "ipython3",
   "version": "3.12.2"
  }
 },
 "nbformat": 4,
 "nbformat_minor": 2
}
